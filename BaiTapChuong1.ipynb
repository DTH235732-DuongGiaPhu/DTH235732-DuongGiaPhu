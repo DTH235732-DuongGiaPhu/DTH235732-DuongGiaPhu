{
  "nbformat": 4,
  "nbformat_minor": 0,
  "metadata": {
    "colab": {
      "provenance": [],
      "authorship_tag": "ABX9TyPjW54o1NtMhfLHIrcujgzM",
      "include_colab_link": true
    },
    "kernelspec": {
      "name": "python3",
      "display_name": "Python 3"
    },
    "language_info": {
      "name": "python"
    }
  },
  "cells": [
    {
      "cell_type": "markdown",
      "metadata": {
        "id": "view-in-github",
        "colab_type": "text"
      },
      "source": [
        "<a href=\"https://colab.research.google.com/github/DTH235732-DuongGiaPhu/DTH235732-DuongGiaPhu/blob/main/BaiTapChuong1.ipynb\" target=\"_parent\"><img src=\"https://colab.research.google.com/assets/colab-badge.svg\" alt=\"Open In Colab\"/></a>"
      ]
    },
    {
      "cell_type": "code",
      "execution_count": null,
      "metadata": {
        "colab": {
          "base_uri": "https://localhost:8080/"
        },
        "id": "D4aPUhh3PlIX",
        "outputId": "f46d0919-fea9-427d-ce2e-f42a314e4419"
      },
      "outputs": [
        {
          "output_type": "stream",
          "name": "stdout",
          "text": [
            "Albert Einstein đã từng nói: Một người không bao giờ mắc sai lầm không bao giờ thử bất kỳ điều gì mới.\n"
          ]
        }
      ],
      "source": [
        "print('Albert Einstein đã từng nói: Một người không bao giờ mắc sai lầm không bao giờ thử bất kỳ điều gì mới.')"
      ]
    },
    {
      "cell_type": "code",
      "source": [
        "if 5>2:\n",
        "           print('Five is greater than  two!')"
      ],
      "metadata": {
        "colab": {
          "base_uri": "https://localhost:8080/"
        },
        "id": "WnkhPGAUPtjZ",
        "outputId": "63bfdc26-7cc0-4050-82cf-1f996514feba"
      },
      "execution_count": null,
      "outputs": [
        {
          "output_type": "stream",
          "name": "stdout",
          "text": [
            "Five is greater than  two!\n"
          ]
        }
      ]
    },
    {
      "cell_type": "code",
      "source": [
        "total = 1 + \\\n",
        "2 + \\\n",
        "3\n",
        "print(total); print('Hello Python')"
      ],
      "metadata": {
        "colab": {
          "base_uri": "https://localhost:8080/"
        },
        "id": "M-4EGd2iQzaT",
        "outputId": "622e7749-1547-42a6-deb1-58cd8025c0d7"
      },
      "execution_count": null,
      "outputs": [
        {
          "output_type": "stream",
          "name": "stdout",
          "text": [
            "6\n",
            "Hello Python\n"
          ]
        }
      ]
    },
    {
      "cell_type": "code",
      "source": [
        "if True:\n",
        "  print('True')\n",
        "else:\n",
        "    print('False')"
      ],
      "metadata": {
        "colab": {
          "base_uri": "https://localhost:8080/"
        },
        "id": "y3xM1F7aRsQ2",
        "outputId": "ed6cd6c8-18c2-4cb6-f308-cc1aaa240a8c"
      },
      "execution_count": null,
      "outputs": [
        {
          "output_type": "stream",
          "name": "stdout",
          "text": [
            "True\n"
          ]
        }
      ]
    },
    {
      "cell_type": "code",
      "source": [
        "#This is a comment\n",
        "print('Hello, World!')"
      ],
      "metadata": {
        "colab": {
          "base_uri": "https://localhost:8080/"
        },
        "id": "sZ_Tm6nVVW19",
        "outputId": "d751183f-8073-42d3-cc43-fab898747f13"
      },
      "execution_count": null,
      "outputs": [
        {
          "output_type": "stream",
          "name": "stdout",
          "text": [
            "Hello, World!\n"
          ]
        }
      ]
    },
    {
      "cell_type": "code",
      "source": [
        "import math\n",
        "import os"
      ],
      "metadata": {
        "id": "rI-J-xdzVg1E"
      },
      "execution_count": null,
      "outputs": []
    },
    {
      "cell_type": "code",
      "source": [
        "def add(a, b):\n",
        "  result = a + b\n",
        "  return result"
      ],
      "metadata": {
        "id": "pPAutqhPWBCF"
      },
      "execution_count": null,
      "outputs": []
    },
    {
      "cell_type": "code",
      "source": [
        "print('Chao cac ban !')"
      ],
      "metadata": {
        "colab": {
          "base_uri": "https://localhost:8080/"
        },
        "id": "oeq6AStkWPhA",
        "outputId": "080a8f32-7f4a-42ca-ced5-ac5ea79487c2"
      },
      "execution_count": null,
      "outputs": [
        {
          "output_type": "stream",
          "name": "stdout",
          "text": [
            "Chao cac ban !\n"
          ]
        }
      ]
    },
    {
      "cell_type": "code",
      "source": [
        "print('Dương Gia Phú')"
      ],
      "metadata": {
        "colab": {
          "base_uri": "https://localhost:8080/"
        },
        "id": "2LUFFbXBYhps",
        "outputId": "30f558f8-f03c-4580-c205-3b15c0f622f2"
      },
      "execution_count": null,
      "outputs": [
        {
          "output_type": "stream",
          "name": "stdout",
          "text": [
            "Dương Gia Phú\n"
          ]
        }
      ]
    }
  ]
}